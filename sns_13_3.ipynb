{
 "cells": [
  {
   "cell_type": "code",
   "execution_count": 5,
   "metadata": {},
   "outputs": [
    {
     "name": "stdout",
     "output_type": "stream",
     "text": [
      "1. 크롤링할 이미지의 키워드는 무엇입니까?: 카리나\n",
      "2. 크롤링할 건 수는 몇 건입니까?: 3\n",
      "사진을 저장할 폴더를 지정하세요(예: c:\\py_temp\\): C:\\\\py_temp\\\\test\n",
      "다운로드 완료: C:\\\\py_temp\\\\test\\1.jpg\n",
      "다운로드 완료: C:\\\\py_temp\\\\test\\2.jpg\n",
      "다운로드 완료: C:\\\\py_temp\\\\test\\3.jpg\n"
     ]
    }
   ],
   "source": [
    "from bs4 import BeautifulSoup\n",
    "from selenium import webdriver\n",
    "from selenium.webdriver.common.by import By\n",
    "from selenium.webdriver.common.keys import Keys\n",
    "import urllib.request\n",
    "import urllib\n",
    "import time\n",
    "import sys\n",
    "import re\n",
    "import math\n",
    "import os\n",
    "import random\n",
    "\n",
    "query_txt = input(\"1. 크롤링할 이미지의 키워드는 무엇입니까?: \")\n",
    "cnt = int(input(\"2. 크롤링할 건 수는 몇 건입니까?: \"))\n",
    "image_dir = input(\"사진을 저장할 폴더를 지정하세요(예: c:\\\\py_temp\\\\): \")\n",
    "\n",
    "path = \"C:\\py_temp\\chromedriver\\chromedriver.exe\"\n",
    "driver = webdriver.Chrome(path)\n",
    "\n",
    "driver.get(\"https://www.google.com/imghp\")\n",
    "time.sleep(2)\n",
    "\n",
    "element = driver.find_element(By.NAME, \"q\")\n",
    "element.send_keys(query_txt)\n",
    "element.send_keys(Keys.RETURN)\n",
    "\n",
    "scroll_pause_time = 2\n",
    "last_height = driver.execute_script(\"return document.body.scrollHeight\")\n",
    "\n",
    "while True:\n",
    "    driver.execute_script(\"window.scrollTo(0, document.body.scrollHeight);\")\n",
    "    time.sleep(scroll_pause_time)\n",
    "    new_height = driver.execute_script(\"return document.body.scrollHeight\")\n",
    "    if new_height == last_height:\n",
    "        break\n",
    "    last_height = new_height\n",
    "\n",
    "soup = BeautifulSoup(driver.page_source, \"html.parser\")\n",
    "images = soup.find_all(\"img\", class_=\"rg_i\")\n",
    "\n",
    "image_urls = []\n",
    "for img in images:\n",
    "    url = img.get(\"src\")\n",
    "    if url and url.startswith(\"http\"):\n",
    "        image_urls.append(url)\n",
    "\n",
    "selected_urls = random.sample(image_urls, min(cnt, len(image_urls)))\n",
    "\n",
    "os.makedirs(image_dir, exist_ok=True)\n",
    "\n",
    "for i, url in enumerate(selected_urls):\n",
    "    file_name = str(i + 1) + \".jpg\"\n",
    "    file_path = os.path.join(image_dir, file_name)\n",
    "    urllib.request.urlretrieve(url, file_path)\n",
    "    print(\"다운로드 완료:\", file_path)\n",
    "\n",
    "driver.quit()"
   ]
  },
  {
   "cell_type": "code",
   "execution_count": null,
   "metadata": {},
   "outputs": [],
   "source": []
  }
 ],
 "metadata": {
  "kernelspec": {
   "display_name": "Python 3",
   "language": "python",
   "name": "python3"
  },
  "language_info": {
   "codemirror_mode": {
    "name": "ipython",
    "version": 3
   },
   "file_extension": ".py",
   "mimetype": "text/x-python",
   "name": "python",
   "nbconvert_exporter": "python",
   "pygments_lexer": "ipython3",
   "version": "3.5.4"
  }
 },
 "nbformat": 4,
 "nbformat_minor": 2
}
